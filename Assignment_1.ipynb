{
 "cells": [
  {
   "cell_type": "code",
   "execution_count": 7,
   "metadata": {},
   "outputs": [
    {
     "name": "stdout",
     "output_type": "stream",
     "text": [
      "13345564\n",
      "This is the original list: ['1', '3', '3', '4', '5', '5', '6', '4']\n",
      "This is the list after removing the duplicate elements: ['1', '3', '4', '5', '6']\n"
     ]
    }
   ],
   "source": [
    "#Q1. Write a program to get a user input in the form of a list data type. Return a list by removing all the duplicates.\n",
    "list_1=list(input())\n",
    "print(\"This is the original list:\",list_1)\n",
    "list_1=list(set(list_1))\n",
    "list_1.sort()\n",
    "print(\"This is the list after removing the duplicate elements:\",list_1)"
   ]
  },
  {
   "cell_type": "code",
   "execution_count": 5,
   "metadata": {},
   "outputs": [
    {
     "name": "stdout",
     "output_type": "stream",
     "text": [
      "To exit please enter -2\n",
      "Enter the number:1\n",
      "Enter the number:3\n",
      "Enter the number:4\n",
      "Enter the number:5\n",
      "Enter the number:6\n",
      "Enter the number:-2\n",
      "(1, 3, 4, 5, 6)\n",
      "5\n",
      "1\n",
      "6\n",
      "19\n"
     ]
    }
   ],
   "source": [
    "#Q2. Write a program to create a user defined tuple with ‘int’ data type and perform the following operations:\n",
    "    #Find the length of tuples\n",
    "    #Find the sum of all the elements of a tuple\n",
    "    #Find the largest and smallest elements of a tuple\n",
    "t=()\n",
    "check = 0\n",
    "print(\"To exit please enter -2\")\n",
    "while check == 0:\n",
    "    num=int(input(\"Enter the number:\"))\n",
    "    if num==-2:\n",
    "        break;\n",
    "    else :\n",
    "            t=t+(num,)\n",
    "print(t)\n",
    "print(len(t))\n",
    "print(min(t))\n",
    "print(max(t))\n",
    "print(sum(list(t)))"
   ]
  },
  {
   "cell_type": "code",
   "execution_count": 1,
   "metadata": {},
   "outputs": [
    {
     "name": "stdout",
     "output_type": "stream",
     "text": [
      "Enter the input:13\n",
      "Enter the bit no.:1\n",
      "15\n"
     ]
    }
   ],
   "source": [
    "#Q3. Given a number and ith bit, change the ith bit of that number to 1.\n",
    "num=int(input(\"Enter the input:\"))\n",
    "i=int(input(\"Enter the bit no.:\"))\n",
    "magical_num=(1<<i)\n",
    "output=num^magical_num\n",
    "print(output)"
   ]
  },
  {
   "cell_type": "code",
   "execution_count": 4,
   "metadata": {},
   "outputs": [
    {
     "name": "stdout",
     "output_type": "stream",
     "text": [
      "Enter the number\n",
      "5\n",
      "1\n"
     ]
    }
   ],
   "source": [
    "#Q4. Given a number, print 1 if the number is odd otherwise print 0.\n",
    "list = [0, 1] \n",
    "print (\"Enter the number\") \n",
    "no = input() \n",
    "print (list[int(no) % 2])\n"
   ]
  },
  {
   "cell_type": "code",
   "execution_count": 22,
   "metadata": {},
   "outputs": [
    {
     "name": "stdout",
     "output_type": "stream",
     "text": [
      "[1, 2, 3, 4, 5, 6, 7, 8, 9]\n"
     ]
    }
   ],
   "source": [
    "\"\"\"Q5. Given two lists of integers A and B. Write a program to merge them into a single sorted list that \n",
    "   contains every item from list A and B in ascending order.\"\"\"\n",
    "\n",
    "A=[1,5,4,3,2]\n",
    "B=[8,9,7,6]\n",
    "C=A+B\n",
    "C.sort()\n",
    "print(C)"
   ]
  },
  {
   "cell_type": "code",
   "execution_count": 2,
   "metadata": {
    "scrolled": true
   },
   "outputs": [
    {
     "name": "stdout",
     "output_type": "stream",
     "text": [
      "Enter the name of student:a\n",
      "Enter the name of student:s\n",
      "Enter the name of student:d\n",
      "Enter the name of student:f\n",
      "Enter the name of student:g\n",
      "Enter the marks of student:1\n",
      "Enter the marks of student:5\n",
      "Enter the marks of student:6\n",
      "Enter the marks of student:4\n",
      "Enter the marks of student:5\n",
      "{'a': 1, 's': 5, 'd': 6, 'f': 4, 'g': 5}\n",
      "['a', 'd', 'f', 'g', 's']\n"
     ]
    }
   ],
   "source": [
    "\"\"\"Q6. Create a user defined dictionary to store names and marks of 5 students. Sort the dictionary according to marks and \n",
    "    return this sorted dictionary to the user.\"\"\"\n",
    "a=input(\"Enter the name of student:\")\n",
    "b=input(\"Enter the name of student:\")\n",
    "c=input(\"Enter the name of student:\")\n",
    "d=input(\"Enter the name of student:\")\n",
    "e=input(\"Enter the name of student:\")\n",
    "\n",
    "f=int(input(\"Enter the marks of student:\"))\n",
    "g=int(input(\"Enter the marks of student:\"))\n",
    "h=int(input(\"Enter the marks of student:\"))\n",
    "i=int(input(\"Enter the marks of student:\"))\n",
    "j=int(input(\"Enter the marks of student:\"))\n",
    "\n",
    "\n",
    "dict={a:f,b:g,c:h,d:i,e:j}\n",
    "print(dict)\n",
    "\n",
    "print(sorted(dict))"
   ]
  },
  {
   "cell_type": "code",
   "execution_count": null,
   "metadata": {},
   "outputs": [],
   "source": []
  },
  {
   "cell_type": "code",
   "execution_count": null,
   "metadata": {},
   "outputs": [],
   "source": []
  }
 ],
 "metadata": {
  "kernelspec": {
   "display_name": "Python 3",
   "language": "python",
   "name": "python3"
  },
  "language_info": {
   "codemirror_mode": {
    "name": "ipython",
    "version": 3
   },
   "file_extension": ".py",
   "mimetype": "text/x-python",
   "name": "python",
   "nbconvert_exporter": "python",
   "pygments_lexer": "ipython3",
   "version": "3.7.6"
  }
 },
 "nbformat": 4,
 "nbformat_minor": 4
}
